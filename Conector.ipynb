{
 "cells": [
  {
   "cell_type": "code",
   "execution_count": null,
   "metadata": {},
   "outputs": [],
   "source": [
    "import win32com.client as win32ComClient\n",
    "\n",
    "if __name__ == \"__main__\":\n",
    "    try:\n",
    "        dbName = \"Ejemplo-Detalle de ventas.IMD\"\n",
    "        idea = win32ComClient.Dispatch(dispatch=\"Idea.IdeaClient\")\n",
    "        db = idea.OpenDatabase(dbName)\n",
    "        task = db.VisualConnector()\n",
    "\n",
    "        id0 = task.AddDatabase(\"Ejemplo-Detalle de ventas.IMD\")\n",
    "        id1 = task.AddDatabase(\"Ejemplo-Vendedores.IMD\")\n",
    "        id2 = task.AddDatabase(\"Ejemplo-Clientes.IMD\")\n",
    "\n",
    "        task.MasterDatabase = id0\n",
    "\n",
    "        task.AppendDatabaseNames = False\n",
    "        task.IncludeAllPrimaryRecords = True\n",
    "        task.AddRelation(id0,\"NUM_VENDEDOR\", id1, \"NUM_VENDEDOR\")\n",
    "        task.AddRelation(id0,\"NUM_CLI\", id2, \"NUM_CLI\")\n",
    "\n",
    "        task.IncludeAllFields()\n",
    "        task.CreateVirtualDatabase = False\n",
    "        resultDbName = \"Detalle_total01.IMD\"\n",
    "        task.OutputDatabaseName = resultDbName\n",
    "        task.PerformTask()\n",
    "        idea.OpenDatabase(resultDbName)\n",
    "    finally:\n",
    "        task = None\n",
    "        db = None\n",
    "        idea = None\n",
    "\n"
   ]
  }
 ],
 "metadata": {
  "kernelspec": {
   "display_name": "Python 3",
   "language": "python",
   "name": "python3"
  },
  "language_info": {
   "codemirror_mode": {
    "name": "ipython",
    "version": 3
   },
   "file_extension": ".py",
   "mimetype": "text/x-python",
   "name": "python",
   "nbconvert_exporter": "python",
   "pygments_lexer": "ipython3",
   "version": "3.7.6"
  }
 },
 "nbformat": 4,
 "nbformat_minor": 4
}
